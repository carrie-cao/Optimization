{
 "cells": [
  {
   "cell_type": "markdown",
   "metadata": {},
   "source": [
    "# OPTIMIZATION \n",
    "## Diet Problem\n",
    "### Find the optimized food combination meet the nutritional requirements while minimizing the cost."
   ]
  },
  {
   "cell_type": "code",
   "execution_count": 1,
   "metadata": {},
   "outputs": [],
   "source": [
    "#import PuLP and pandas modules\n",
    "\n",
    "from pulp import *\n",
    "import pandas as pd\n",
    "import numpy as np"
   ]
  },
  {
   "cell_type": "code",
   "execution_count": 2,
   "metadata": {},
   "outputs": [
    {
     "name": "stdout",
     "output_type": "stream",
     "text": [
      "                                              Long_Desc Protein  \\\n",
      "7143  Mollusks, scallop, (bay and sea), cooked, steamed    23.2   \n",
      "7144                               Mollusks, snail, raw    16.1   \n",
      "7145                                 Turtle, green, raw    19.8   \n",
      "\n",
      "     Carbohydrate, by difference Energy Water  Energy.1 Calcium, Ca Iron, Fe  \\\n",
      "7143                           0    112  73.1     469.0         115        3   \n",
      "7144                           2     90  79.2     377.0          10      3.5   \n",
      "7145                           0     89  78.5     372.0         118      1.4   \n",
      "\n",
      "     Magnesium, Mg Phosphorus, P  ... Riboflavin Niacin Pantothenic acid  \\\n",
      "7143            55           338  ...       0.06    1.3              NaN   \n",
      "7144           250           272  ...       0.12    1.4              NaN   \n",
      "7145            20           180  ...       0.15    1.1              NaN   \n",
      "\n",
      "     Vitamin B-6 Folate, total Vitamin B-12 Vitamin K (phylloquinone)  \\\n",
      "7143         0.1            12          1.3                       0.2   \n",
      "7144        0.13             6          0.5                       0.1   \n",
      "7145        0.12            15            1                       0.1   \n",
      "\n",
      "     Cholesterol Fatty acids, total trans Fatty acids, total saturated  \n",
      "7143        53.0                      NaN                        0.146  \n",
      "7144        50.0                      NaN                        0.361  \n",
      "7145        50.0                      NaN                        0.127  \n",
      "\n",
      "[3 rows x 31 columns]\n",
      "[['Butter, salted', 0.85, 0.06, 717, 15.87, 3000.0, 24, 0.02, 2, 24, 24, 576, 0.09, 0, 0, 1, 684, 2.32, 56, 0, 0.005, 0.034, 0.042, 0.11, 0.003, 3, 0.17, 7, 215.0, nan, 51.368], ['Butter, whipped, with salt', 0.85, 0.06, 717, 15.87, 2999.0, 24, 0.16, 2, 23, 26, 827, 0.05, 0.016, 0.004, 1, 684, 2.32, nan, 0, 0.005, 0.034, 0.042, 0.11, 0.003, 3, 0.13, 7, 219.0, nan, 50.489]]\n",
      "['Long_Desc', 'Protein', 'Carbohydrate, by difference', 'Energy', 'Water', 'Energy.1', 'Calcium, Ca', 'Iron, Fe', 'Magnesium, Mg', 'Phosphorus, P', 'Potassium, K', 'Sodium, Na', 'Zinc, Zn', 'Copper, Cu', 'Manganese, Mn', 'Selenium, Se', 'Vitamin A, RAE', 'Vitamin E (alpha-tocopherol)', 'Vitamin D', 'Vitamin C, total ascorbic acid', 'Thiamin', 'Riboflavin', 'Niacin', 'Pantothenic acid', 'Vitamin B-6', 'Folate, total', 'Vitamin B-12', 'Vitamin K (phylloquinone)', 'Cholesterol', 'Fatty acids, total trans', 'Fatty acids, total saturated']\n",
      "30\n"
     ]
    }
   ],
   "source": [
    "# load data\n",
    "data = pd.read_excel(\"diet_large.xls\", skiprows = 1, header = 0) # read all data, 1st row is blank\n",
    "\n",
    "dataTable = data[0:7146] # rows 0:7146 (Excel calls them 2-7148; \n",
    "print(dataTable.tail(3))\n",
    "dataTable = dataTable.values.tolist() # Convert dataframe to list\n",
    "print(dataTable[:2])\n",
    "nutrientNames = list(data.columns.values) # column headers (nutrient names are in columns 3-13; Excel calls them D-N)\n",
    "print(nutrientNames)\n",
    "numNutrients = len(nutrientNames) - 1 # don't count the food-name column\n",
    "print(numNutrients)"
   ]
  },
  {
   "cell_type": "code",
   "execution_count": 3,
   "metadata": {},
   "outputs": [],
   "source": [
    "# replace nan' with zero\n",
    "\n",
    "for i in range(0,7146):\n",
    "    for j in range(1,numNutrients):\n",
    "        if np.isnan(dataTable[i][j]):\n",
    "            dataTable[i][j] = 0\n",
    "\n",
    "minVal = data[7147:7148].values.tolist() # minimum nutrient values\n",
    "maxVal = data[7149:7151].values.tolist() # maximum nutrient values"
   ]
  },
  {
   "cell_type": "code",
   "execution_count": 4,
   "metadata": {},
   "outputs": [
    {
     "name": "stdout",
     "output_type": "stream",
     "text": [
      "[[nan, 56, 130, 2400, 3700, 2400.0, 1000, 8, 270, 700, 4700, 1500, 11, 0.9, 2.3, 55, 900, 15, 200, 90, 0.0012, 1.3, 16, 5, 1.3, 400, 2.4, 120, nan, nan, nan]]\n",
      "[[nan, 1000000, 1000000, 1000000, 1000000, 1000000.0, 2500, 45, 400, 4000, 1000000, 2300, 40, 10, 11, 400, 3000, 1000, 2000, 2000, 1000000, 1000000, 35, 1000000, 100, 1000, 1000000, 1000000, nan, nan, nan]]\n"
     ]
    }
   ],
   "source": [
    "print(minVal)\n",
    "print(maxVal)"
   ]
  },
  {
   "cell_type": "code",
   "execution_count": 5,
   "metadata": {},
   "outputs": [],
   "source": [
    "# Extract individual vectors of data\n",
    "\n",
    "foods = [j[0] for j in dataTable] #list of food names\n",
    "\n",
    "cost = dict([(j[0], float(j[nutrientNames.index('Cholesterol')])) for j in dataTable]) # cost for each food\n",
    "\n",
    "nutrients = []\n",
    "for i in range(0,numNutrients): # for loop running through each nutrient\n",
    "    nutrients.append(dict([(j[0], float(j[i+1])) for j in dataTable])) # amount of nutrient i in food j"
   ]
  },
  {
   "cell_type": "code",
   "execution_count": 6,
   "metadata": {},
   "outputs": [
    {
     "name": "stdout",
     "output_type": "stream",
     "text": [
      "adding constraint for Protein\n",
      "adding constraint for Carbohydrate, by difference\n",
      "adding constraint for Energy\n",
      "adding constraint for Water\n",
      "adding constraint for Energy.1\n",
      "adding constraint for Calcium, Ca\n",
      "adding constraint for Iron, Fe\n",
      "adding constraint for Magnesium, Mg\n",
      "adding constraint for Phosphorus, P\n",
      "adding constraint for Potassium, K\n",
      "adding constraint for Sodium, Na\n",
      "adding constraint for Zinc, Zn\n",
      "adding constraint for Copper, Cu\n",
      "adding constraint for Manganese, Mn\n",
      "adding constraint for Selenium, Se\n",
      "adding constraint for Vitamin A, RAE\n",
      "adding constraint for Vitamin E (alpha-tocopherol)\n",
      "adding constraint for Vitamin D\n",
      "adding constraint for Vitamin C, total ascorbic acid\n",
      "adding constraint for Thiamin\n",
      "adding constraint for Riboflavin\n",
      "adding constraint for Niacin\n",
      "adding constraint for Pantothenic acid\n",
      "adding constraint for Vitamin B-6\n",
      "adding constraint for Folate, total\n",
      "adding constraint for Vitamin B-12\n",
      "adding constraint for Vitamin K (phylloquinone)\n",
      "\n",
      "The optimizied food is\n",
      "0.059863415 units of Beans,_adzuki,_mature_seeds,_raw\n",
      "0.069514608 units of Broccoli_raab,_raw\n",
      "0.42866218 units of Cocoa_mix,_no_sugar_added,_powder\n",
      "0.14694398 units of Egg,_white,_dried,_flakes,_glucose_reduced\n",
      "0.73805891 units of Infant_formula,_MEAD_JOHNSON,_ENFAMIL,_NUTRAMIGEN,_with_iron,_p\n",
      "0.4258564 units of Infant_formula,_NESTLE,_GOOD_START_ESSENTIALS__SOY,__with_iron,\n",
      "0.050114149 units of Infant_formula,_ROSS,_ISOMIL,_with_iron,_powder,_not_reconstitu\n",
      "0.15033656 units of Margarine_like_spread,_approximately_60%_fat,_tub,_soybean_(hyd\n",
      "0.25918767 units of Mung_beans,_mature_seeds,_raw\n",
      "0.18052856 units of Nuts,_mixed_nuts,_dry_roasted,_with_peanuts,_with_salt_added\n",
      "1.184482 units of Oil,_vegetable,_sunflower,_linoleic,_(hydrogenated)\n",
      "0.10375187 units of Seeds,_sunflower_seed_kernels,_dry_roasted,_with_salt_added\n",
      "0.031866196 units of Snacks,_potato_chips,_fat_free,_made_with_olestra\n",
      "0.070710308 units of Spices,_paprika\n",
      "0.55106575 units of Tomatoes,_sun_dried\n",
      "9999.6864 units of Water,_bottled,_non_carbonated,_CALISTOGA\n",
      "\n",
      "Total cholesterol = 0.000000\n"
     ]
    }
   ],
   "source": [
    "# Create a linear program Problem \n",
    "# minimization (find the *lowest* cost), use \"LpMinimize\" \n",
    "\n",
    "prob = LpProblem('Food optimization', LpMinimize)\n",
    "\n",
    "#  Define the variables, choose foodVarsfor each food. Lower limit of each variable is 0 (non negative)\n",
    "\n",
    "foodVars = LpVariable.dicts(\"Foods\", foods, 0)\n",
    "\n",
    "\n",
    "# objective function \n",
    "prob += lpSum([cost[f] * foodVars[f] for f in foods]), 'Total Cost'\n",
    "\n",
    "# Add constraints for each nutrient \n",
    "for i in range(0,numNutrients): \n",
    "    if (not np.isnan(minVal[0][i+1])) and (not np.isnan(maxVal[0][i+1])): # only write a constraint if upper and lower bounds exist\n",
    "        print(\"adding constraint for \" + nutrientNames[i+1])\n",
    "        prob += lpSum([nutrients[i][j] * foodVars[j] for j in foods]) >= minVal[0][i+1], 'min nutrient ' + nutrientNames[i+1]\n",
    "        prob += lpSum([nutrients[i][j] * foodVars[j] for j in foods]) <= maxVal[0][i+1], 'max nutrient ' + nutrientNames[i+1]\n",
    "            \n",
    "\n",
    "# Solve the optimization problem and Print the output\n",
    "prob.solve()\n",
    "print()\n",
    "print(\"The optimizied food is\")\n",
    "for var in prob.variables():\n",
    "    if var.varValue > 0:\n",
    "        print(str(var.varValue)+\" units of \"+str(var).replace('Foods_','') )\n",
    "print()\n",
    "print(\"Total cholesterol = %f\" % value(prob.objective))"
   ]
  },
  {
   "cell_type": "markdown",
   "metadata": {},
   "source": [
    "# Alternative Solution"
   ]
  },
  {
   "cell_type": "code",
   "execution_count": 7,
   "metadata": {},
   "outputs": [
    {
     "name": "stdout",
     "output_type": "stream",
     "text": [
      "adding constraint for Protein\n",
      "adding constraint for Carbohydrate, by difference\n",
      "adding constraint for Energy\n",
      "adding constraint for Water\n",
      "adding constraint for Energy.1\n",
      "adding constraint for Calcium, Ca\n",
      "adding constraint for Iron, Fe\n",
      "adding constraint for Magnesium, Mg\n",
      "adding constraint for Phosphorus, P\n",
      "adding constraint for Potassium, K\n",
      "adding constraint for Sodium, Na\n",
      "adding constraint for Zinc, Zn\n",
      "adding constraint for Copper, Cu\n",
      "adding constraint for Manganese, Mn\n",
      "adding constraint for Selenium, Se\n",
      "adding constraint for Vitamin A, RAE\n",
      "adding constraint for Vitamin E (alpha-tocopherol)\n",
      "adding constraint for Vitamin D\n",
      "adding constraint for Vitamin C, total ascorbic acid\n",
      "adding constraint for Thiamin\n",
      "adding constraint for Riboflavin\n",
      "adding constraint for Niacin\n",
      "adding constraint for Pantothenic acid\n",
      "adding constraint for Vitamin B-6\n",
      "adding constraint for Folate, total\n",
      "adding constraint for Vitamin B-12\n",
      "adding constraint for Vitamin K (phylloquinone)\n",
      "\n",
      "---------The solution to the diet problem is----------\n",
      "7.0117007 units of BANQUET_Salisbury_Steak_Meal,_Gravy_and_Salisbury_Steak_with_Ma\n",
      "0.20365743 units of Cereals_ready_to_eat,_KASHI_Heart_to_Heart_by_KELLOGG\n",
      "0.23412086 units of Collards,_raw\n",
      "25.855235 units of Fish,_devilfish,_meat_(Alaska_Native)\n",
      "31.46708 units of Fish,_lingcod,_meat,_raw_(Alaska_Native)\n",
      "0.02 units of Fish_oil,_cod_liver\n",
      "2.2140307 units of Gelatins,_dry_powder,_unsweetened\n",
      "0.037489833 units of Mollusks,_oyster,_eastern,_canned\n",
      "57.437865 units of Rhubarb,_wild,_leaves_(Alaska_Native)\n",
      "621.79859 units of Sweeteners,_tabletop,_aspartame,_EQUAL,_packets\n",
      "9.5089609 units of Tea,_brewed,_prepared_with_distilled_water\n",
      "9552.2849 units of Water,_bottled,_non_carbonated,_CALISTOGA\n",
      "276.5536 units of Water,_bottled,_non_carbonated,_DANNON\n",
      "0.076732592 units of Whale,_beluga,_flipper,_raw_(Alaska_Native)\n",
      "9.6405544 units of Whale,_beluga,_liver,_raw_(Alaska_Native)\n",
      "1.7353546 units of Whale,_beluga,_meat,_air_dried,_raw_(Alaska_Native)\n",
      "\n",
      "Total protein = 2994.899576\n"
     ]
    }
   ],
   "source": [
    "# maximize protein intake rather than minimize cholesterol \n",
    "\n",
    "cost = dict([(j[0], float(j[nutrientNames.index('Protein')])) for j in dataTable]) # cost for each food\n",
    "\n",
    "# This problem is a maxmization problem , so \"LpMaximize\" \n",
    "prob = LpProblem('Food optimization', LpMaximize) # 2 parameters: \"name\" and \"sense\"\n",
    "\n",
    "\n",
    "# Define the variables \n",
    "foodVars = LpVariable.dicts(\"Foods\", foods, 0)\n",
    "\n",
    "\n",
    "# Create objective function \n",
    "prob += lpSum([cost[f] * foodVars[f] for f in foods]), 'Total Cost'\n",
    "\n",
    "#  Add constraints \n",
    "\n",
    "for i in range(0,numNutrients): \n",
    "    if (not np.isnan(minVal[0][i+1])) and (not np.isnan(maxVal[0][i+1])): # only write a constraint if upper and lower bounds exist\n",
    "        print(\"adding constraint for \" + nutrientNames[i+1])\n",
    "        prob += lpSum([nutrients[i][j] * foodVars[j] for j in foods]) >= minVal[0][i+1], 'min nutrient ' + nutrientNames[i+1]\n",
    "        prob += lpSum([nutrients[i][j] * foodVars[j] for j in foods]) <= maxVal[0][i+1], 'max nutrient ' + nutrientNames[i+1]\n",
    "            \n",
    "\n",
    "#Solve the optimization problem \n",
    "\n",
    "prob.solve()\n",
    "print()\n",
    "print(\"---------The solution to the diet problem is----------\")\n",
    "for var in prob.variables():\n",
    "    if var.varValue > 0:\n",
    "        print(str(var.varValue)+\" units of \"+str(var).replace('Foods_','') )\n",
    "print()\n",
    "print(\"Total protein = %f\" % value(prob.objective))"
   ]
  }
 ],
 "metadata": {
  "kernelspec": {
   "display_name": "Python 3",
   "language": "python",
   "name": "python3"
  },
  "language_info": {
   "codemirror_mode": {
    "name": "ipython",
    "version": 3
   },
   "file_extension": ".py",
   "mimetype": "text/x-python",
   "name": "python",
   "nbconvert_exporter": "python",
   "pygments_lexer": "ipython3",
   "version": "3.7.6"
  }
 },
 "nbformat": 4,
 "nbformat_minor": 4
}
